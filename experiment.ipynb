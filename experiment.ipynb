{
 "cells": [
  {
   "cell_type": "code",
   "execution_count": 5,
   "metadata": {},
   "outputs": [
    {
     "name": "stdout",
     "output_type": "stream",
     "text": [
      "\n",
      "0: 384x640 2 persons, 2 bottles, 1 dining table, 1 mouse, 1 keyboard, 1 cell phone, 1 book, 57.0ms\n",
      "Speed: 3.0ms preprocess, 57.0ms inference, 1.0ms postprocess per image at shape (1, 3, 384, 640)\n"
     ]
    },
    {
     "ename": "AttributeError",
     "evalue": "'list' object has no attribute 'xyxy'",
     "output_type": "error",
     "traceback": [
      "\u001b[1;31m---------------------------------------------------------------------------\u001b[0m",
      "\u001b[1;31mAttributeError\u001b[0m                            Traceback (most recent call last)",
      "Cell \u001b[1;32mIn[5], line 14\u001b[0m\n\u001b[0;32m     11\u001b[0m results \u001b[38;5;241m=\u001b[39m model(image)\n\u001b[0;32m     13\u001b[0m \u001b[38;5;66;03m# 탐지된 객체 정보 출력\u001b[39;00m\n\u001b[1;32m---> 14\u001b[0m \u001b[38;5;28;01mfor\u001b[39;00m result \u001b[38;5;129;01min\u001b[39;00m \u001b[43mresults\u001b[49m\u001b[38;5;241;43m.\u001b[39;49m\u001b[43mxyxy\u001b[49m:\n\u001b[0;32m     15\u001b[0m     \u001b[38;5;66;03m# 신뢰도가 0.5 이상인 객체만 출력\u001b[39;00m\n\u001b[0;32m     16\u001b[0m     \u001b[38;5;28;01mif\u001b[39;00m result\u001b[38;5;241m.\u001b[39mconf \u001b[38;5;241m>\u001b[39m \u001b[38;5;241m0.5\u001b[39m:\n\u001b[0;32m     17\u001b[0m         label \u001b[38;5;241m=\u001b[39m result\u001b[38;5;241m.\u001b[39mname  \u001b[38;5;66;03m# 객체 클래스 이름\u001b[39;00m\n",
      "\u001b[1;31mAttributeError\u001b[0m: 'list' object has no attribute 'xyxy'"
     ]
    }
   ],
   "source": [
    "import cv2\n",
    "from ultralytics import YOLO\n",
    "\n",
    "# 모델 불러오기\n",
    "model = YOLO(\"yolov8n.pt\")  # COCO 사전 훈련된 모델 사용\n",
    "\n",
    "# 이미지 불러오기\n",
    "image = cv2.imread('20240502_142118.jpg')\n",
    "\n",
    "# 객체 탐지 및 정렬\n",
    "results = model(image)\n",
    "\n",
    "# 탐지된 객체 정보 출력\n",
    "for result in results.xyxy:\n",
    "    # 신뢰도가 0.5 이상인 객체만 출력\n",
    "    if result.conf > 0.5:\n",
    "        label = result.name  # 객체 클래스 이름\n",
    "        x1, y1, x2, y2 = result.xyxy  # 경계 상자 좌표\n",
    "        confidence = result.conf  # 신뢰도\n",
    "\n",
    "        # 경계 상자 그리기\n",
    "        cv2.rectangle(image, (int(x1), int(y1)), (int(x2), int(y2)), (255, 0, 0), 2)\n",
    "\n",
    "        # 객체 클래스 및 신뢰도 텍스트 출력\n",
    "        cv2.putText(image, f\"{label}: {confidence:.2f}\", (int(x1), int(y1 - 5)), cv2.FONT_HERSHEY_SIMPLEX, 0.5, (255, 0, 0), 2)\n",
    "\n",
    "# 정렬된 객체가 포함된 이미지 출력\n",
    "cv2.imshow('Object Detection', image)\n",
    "cv2.waitKey(0)"
   ]
  }
 ],
 "metadata": {
  "kernelspec": {
   "display_name": "Python 3",
   "language": "python",
   "name": "python3"
  },
  "language_info": {
   "codemirror_mode": {
    "name": "ipython",
    "version": 3
   },
   "file_extension": ".py",
   "mimetype": "text/x-python",
   "name": "python",
   "nbconvert_exporter": "python",
   "pygments_lexer": "ipython3",
   "version": "3.12.2"
  }
 },
 "nbformat": 4,
 "nbformat_minor": 2
}
