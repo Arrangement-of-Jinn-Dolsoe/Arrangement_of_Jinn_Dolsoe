{
 "cells": [
  {
   "cell_type": "code",
   "execution_count": 49,
   "metadata": {},
   "outputs": [
    {
     "name": "stdout",
     "output_type": "stream",
     "text": [
      "\n",
      "image 1/1 c:\\Jupyter Notebook\\Project_NewBie\\1.jpg: 480x640 4 bottles, 1 cup, 1144.5ms\n",
      "Speed: 3.5ms preprocess, 1144.5ms inference, 0.0ms postprocess per image at shape (1, 3, 480, 640)\n"
     ]
    }
   ],
   "source": [
    "import cv2\n",
    "from ultralytics import YOLO\n",
    "from ultralytics.engine.results import Results\n",
    "\n",
    "# Load a pretrained YOLOv8n model\n",
    "model = YOLO('yolov8x-seg.pt')\n",
    "\n",
    "# Run inference on an image\n",
    "results: Results = model('예제선반1.jpg')  # results list"
   ]
  },
  {
   "cell_type": "markdown",
   "metadata": {},
   "source": [
    "모델을 불러오는 과정"
   ]
  },
  {
   "cell_type": "code",
   "execution_count": 51,
   "metadata": {},
   "outputs": [
    {
     "name": "stdout",
     "output_type": "stream",
     "text": [
      "Width: 222, Height: 153\n",
      "Width: 242, Height: 159\n"
     ]
    }
   ],
   "source": [
    "# Global variables\n",
    "drawing = False # true if mouse is pressed\n",
    "ix, iy = -1, -1\n",
    "img = None\n",
    "temp_img = None\n",
    "\n",
    "# Mouse callback function\n",
    "def draw_rectangle(event, x, y, flags, param):\n",
    "    global ix, iy, drawing, img, temp_img\n",
    "\n",
    "    if event == cv2.EVENT_LBUTTONDOWN:\n",
    "        drawing = True\n",
    "        ix, iy = x, y\n",
    "        temp_img = img.copy()\n",
    "\n",
    "    elif event == cv2.EVENT_MOUSEMOVE:\n",
    "        if drawing is True:\n",
    "            img = temp_img.copy()\n",
    "            cv2.rectangle(img, (ix, iy), (x, y), (0, 255, 0), 1)\n",
    "\n",
    "    elif event == cv2.EVENT_LBUTTONUP:\n",
    "        drawing = False\n",
    "        cv2.rectangle(img, (ix, iy), (x, y), (0, 255, 0), -1)\n",
    "        width = abs(ix - x)\n",
    "        height = abs(iy - y)\n",
    "        print(f\"Width: {width}, Height: {height}\")\n",
    "\n",
    "# Load an image\n",
    "img = results[0].orig_img.copy()\n",
    "cv2.namedWindow('image')\n",
    "cv2.setMouseCallback('image', draw_rectangle)\n",
    "\n",
    "while(1):\n",
    "    cv2.imshow('image', img)\n",
    "    if cv2.waitKey(1) & 0xFF == 27:  # exit if ESC is pressed\n",
    "        break\n",
    "\n",
    "cv2.destroyAllWindows()"
   ]
  },
  {
   "cell_type": "markdown",
   "metadata": {},
   "source": [
    "마우스 드래그로 사각형을 그리는 기능"
   ]
  },
  {
   "cell_type": "code",
   "execution_count": 52,
   "metadata": {},
   "outputs": [
    {
     "name": "stdout",
     "output_type": "stream",
     "text": [
      "Detected Object 1 width: 112, height: 322\n",
      "Detected Object 2 width: 125, height: 431\n",
      "Detected Object 3 width: 110, height: 173\n",
      "Detected Object 4 width: 138, height: 460\n",
      "Detected Object 5 width: 54, height: 199\n"
     ]
    }
   ],
   "source": [
    "image_path = '예제선반1.jpg'\n",
    "image = cv2.imread(image_path)\n",
    "\n",
    "for r in results:\n",
    "    for idx, box in enumerate(r.boxes.xyxy):\n",
    "        x1, y1, x2, y2 = map(int, box[:4])  # 경계 상자 좌표 (정수로 변환)\n",
    "        cropped_img = image[y1:y2, x1:x2]  # 경계 상자 좌표를 사용하여 이미지 자르기\n",
    "\n",
    "        height, width = cropped_img.shape[:2]\n",
    "        new_width = int(width)\n",
    "        new_height = int(height)\n",
    "        cropped_img = cv2.resize(cropped_img, (new_width, new_height))\n",
    "            \n",
    "        print(f'Detected Object {idx+1} width: {new_width}, height: {new_height}')  # 객체의 가로와 세로 길이 출력\n",
    "        cv2.imshow(f'Detected Object {idx+1}', cropped_img)\n",
    "        cv2.waitKey(0)\n",
    "\n",
    "cv2.destroyAllWindows() # 이미지창 닫기"
   ]
  },
  {
   "cell_type": "markdown",
   "metadata": {},
   "source": [
    "객체를 하나씩 보여주고 가로 세로 길이를 출력하는 기능"
   ]
  }
 ],
 "metadata": {
  "kernelspec": {
   "display_name": "Python 3",
   "language": "python",
   "name": "python3"
  },
  "language_info": {
   "codemirror_mode": {
    "name": "ipython",
    "version": 3
   },
   "file_extension": ".py",
   "mimetype": "text/x-python",
   "name": "python",
   "nbconvert_exporter": "python",
   "pygments_lexer": "ipython3",
   "version": "3.12.3"
  }
 },
 "nbformat": 4,
 "nbformat_minor": 2
}
