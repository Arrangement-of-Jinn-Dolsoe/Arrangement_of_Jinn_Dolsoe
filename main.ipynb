{
 "cells": [
  {
   "cell_type": "markdown",
   "metadata": {},
   "source": [
    "모델을 불러오는 과정"
   ]
  },
  {
   "cell_type": "code",
   "execution_count": 1,
   "metadata": {},
   "outputs": [
    {
     "name": "stdout",
     "output_type": "stream",
     "text": [
      "\n",
      "image 1/1 l:\\2024-1\\SW\\0429   \\Arrangement_of_Jinn_Dolsoe\\1.jpg: 480x640 4 bottles, 1 cup, 562.4ms\n",
      "Speed: 1.0ms preprocess, 562.4ms inference, 477.0ms postprocess per image at shape (1, 3, 480, 640)\n"
     ]
    }
   ],
   "source": [
    "import cv2\n",
    "from ultralytics import YOLO\n",
    "from ultralytics.engine.results import Results\n",
    "\n",
    "# Load a pretrained YOLOv8n model\n",
    "model = YOLO('yolov8x-seg.pt')\n",
    "\n",
    "# Run inference on an image\n",
    "results: Results = model('예제선반1.jpg')  # results list"
   ]
  },
  {
   "cell_type": "markdown",
   "metadata": {},
   "source": [
    "선반을 관리하는 클래스"
   ]
  },
  {
   "cell_type": "code",
   "execution_count": 10,
   "metadata": {},
   "outputs": [],
   "source": [
    "class Shelf:\n",
    "    def __init__(self, x1, y1, x2, y2):\n",
    "        self.x1 = min(x1, x2)\n",
    "        self.y1 = min(y1, y2)\n",
    "        self.x2 = max(x1, x2)\n",
    "        self.y2 = max(y1, y2)\n",
    "        self.width = self.x2 - self.x1\n",
    "        self.height = self.y2 - self.y1\n",
    "\n",
    "    def __str__(self):\n",
    "        return f'x1: {self.x1}, y1: {self.y1}, x2: {self.x2}, y2: {self.y2}'\n",
    "    \n",
    "    def print(self):\n",
    "        print(f\"선반의 가로 길이: {self.width}, 선반의 세로 길이: {self.height}\")"
   ]
  },
  {
   "cell_type": "markdown",
   "metadata": {},
   "source": [
    "마우스 드래그로 사각형을 그리는 기능"
   ]
  },
  {
   "cell_type": "code",
   "execution_count": 11,
   "metadata": {},
   "outputs": [
    {
     "name": "stdout",
     "output_type": "stream",
     "text": [
      "선반의 좌표: x1: 477, y1: 263, x2: 1117, y2: 795\n",
      "선반의 가로 길이: 640, 선반의 세로 길이: 532\n",
      "선반의 좌표: x1: 167, y1: 348, x2: 359, y2: 575\n",
      "선반의 가로 길이: 192, 선반의 세로 길이: 227\n"
     ]
    }
   ],
   "source": [
    "# Global variables\n",
    "drawing = False # true if mouse is pressed\n",
    "ix, iy = -1, -1\n",
    "img = None\n",
    "temp_img = None\n",
    "shelf_object = list()\n",
    "\n",
    "# Mouse callback function\n",
    "def draw_rectangle(event, x, y, flags, param):\n",
    "    global ix, iy, drawing, img, temp_img\n",
    "\n",
    "    if event == cv2.EVENT_LBUTTONDOWN:\n",
    "        drawing = True\n",
    "        ix, iy = x, y\n",
    "        temp_img = img.copy()\n",
    "\n",
    "    elif event == cv2.EVENT_MOUSEMOVE:  \n",
    "        if drawing is True:\n",
    "            img = temp_img.copy()\n",
    "            cv2.rectangle(img, (ix, iy), (x, y), (0, 255, 0), 1)\n",
    "\n",
    "    elif event == cv2.EVENT_LBUTTONUP:\n",
    "        drawing = False\n",
    "        cv2.rectangle(img, (ix, iy), (x, y), (0, 255, 0), -1)\n",
    "        shelf_object.append(Shelf(ix, iy, x, y))\n",
    "        print(f\"선반의 좌표: {shelf_object[-1]}\")\n",
    "        print(f\"선반의 가로 길이: {shelf_object[-1].width}, 선반의 세로 길이: {shelf_object[-1].height}\")\n",
    "\n",
    "# Load an image\n",
    "img = results[0].orig_img.copy()\n",
    "cv2.namedWindow('image')\n",
    "cv2.setMouseCallback('image', draw_rectangle)\n",
    "\n",
    "while(1):\n",
    "    cv2.imshow('image', img)\n",
    "    if cv2.waitKey(1) & 0xFF == 27:  # exit if ESC is pressed\n",
    "        break\n",
    "\n",
    "cv2.destroyAllWindows()"
   ]
  },
  {
   "cell_type": "markdown",
   "metadata": {},
   "source": [
    "탐지된 객체를 관리하는 클래스"
   ]
  },
  {
   "cell_type": "code",
   "execution_count": 4,
   "metadata": {},
   "outputs": [],
   "source": [
    "class YoloObject:\n",
    "    def __init__(self, object):\n",
    "        self.object = object\n",
    "\n",
    "    def show(self):\n",
    "        self.object.show()"
   ]
  },
  {
   "cell_type": "markdown",
   "metadata": {},
   "source": [
    "객체를 하나씩 보여주고 가로 세로 길이를 출력하는 기능"
   ]
  },
  {
   "cell_type": "code",
   "execution_count": 5,
   "metadata": {},
   "outputs": [
    {
     "name": "stdout",
     "output_type": "stream",
     "text": [
      "물건 1 가로 길이: 112, 세로 길이: 322\n",
      "물건 1 가로 길이: 125, 세로 길이: 431\n",
      "물건 1 가로 길이: 110, 세로 길이: 173\n",
      "물건 1 가로 길이: 138, 세로 길이: 460\n",
      "물건 1 가로 길이: 54, 세로 길이: 199\n"
     ]
    }
   ],
   "source": [
    "image_path = '예제선반1.jpg'\n",
    "image = cv2.imread(image_path)\n",
    "\n",
    "for r in results[0]:\n",
    "    for idx, box in enumerate(r.boxes.xyxy):\n",
    "        x1, y1, x2, y2 = map(int, box[:4])  # 경계 상자 좌표 (정수로 변환)\n",
    "        cropped_img = image[y1:y2, x1:x2]  # 경계 상자 좌표를 사용하여 이미지 자르기\n",
    "\n",
    "        height, width = cropped_img.shape[:2]\n",
    "        new_width = int(width)\n",
    "        new_height = int(height)\n",
    "        cropped_img = cv2.resize(cropped_img, (new_width, new_height))\n",
    "            \n",
    "        print(f'물건 {idx+1} 가로 길이: {new_width}, 세로 길이: {new_height}')  # 객체의 가로와 세로 길이 출력\n",
    "        cv2.imshow(f'Detected Object {idx+1}', cropped_img)\n",
    "        cv2.waitKey(0)\n",
    "\n",
    "cv2.destroyAllWindows() # 이미지창 닫기"
   ]
  }
 ],
 "metadata": {
  "kernelspec": {
   "display_name": "Python 3",
   "language": "python",
   "name": "python3"
  },
  "language_info": {
   "codemirror_mode": {
    "name": "ipython",
    "version": 3
   },
   "file_extension": ".py",
   "mimetype": "text/x-python",
   "name": "python",
   "nbconvert_exporter": "python",
   "pygments_lexer": "ipython3",
   "version": "3.12.3"
  }
 },
 "nbformat": 4,
 "nbformat_minor": 2
}
