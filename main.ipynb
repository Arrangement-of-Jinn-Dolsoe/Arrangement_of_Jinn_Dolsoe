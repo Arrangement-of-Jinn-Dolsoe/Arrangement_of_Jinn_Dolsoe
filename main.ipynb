{
 "cells": [
  {
   "cell_type": "markdown",
   "metadata": {},
   "source": [
    "모델을 불러오는 과정"
   ]
  },
  {
   "cell_type": "code",
   "execution_count": 1,
   "metadata": {},
   "outputs": [
    {
     "name": "stdout",
     "output_type": "stream",
     "text": [
      "\n",
      "image 1/1 l:\\2024-1\\SW\\0429   \\Arrangement_of_Jinn_Dolsoe\\1.jpg: 480x640 4 bottles, 1 cup, 624.0ms\n",
      "Speed: 1.0ms preprocess, 624.0ms inference, 504.2ms postprocess per image at shape (1, 3, 480, 640)\n"
     ]
    }
   ],
   "source": [
    "import cv2\n",
    "from ultralytics import YOLO\n",
    "from ultralytics.engine.results import Results\n",
    "\n",
    "# Load a pretrained YOLOv8n model\n",
    "model = YOLO('yolov8x-seg.pt')\n",
    "\n",
    "# Run inference on an image\n",
    "results: Results = model('예제선반1.jpg')  # results list"
   ]
  },
  {
   "cell_type": "markdown",
   "metadata": {},
   "source": [
    "선반을 관리하는 클래스"
   ]
  },
  {
   "cell_type": "code",
   "execution_count": 2,
   "metadata": {},
   "outputs": [],
   "source": [
    "class Shelf:\n",
    "    def __init__(self, x1, y1, x2, y2):\n",
    "        self.x1 = min(x1, x2)\n",
    "        self.y1 = min(y1, y2)\n",
    "        self.x2 = max(x1, x2)\n",
    "        self.y2 = max(y1, y2)\n",
    "        self.width = self.x2 - self.x1\n",
    "        self.height = self.y2 - self.y1\n",
    "\n",
    "    def __str__(self):\n",
    "        return f'x1: {self.x1}, y1: {self.y1}, x2: {self.x2}, y2: {self.y2}'\n",
    "    \n",
    "    def print(self):\n",
    "        print(f\"선반의 가로 길이: {self.width}, 선반의 세로 길이: {self.height}\")"
   ]
  },
  {
   "cell_type": "markdown",
   "metadata": {},
   "source": [
    "마우스 드래그로 사각형을 그리는 기능"
   ]
  },
  {
   "cell_type": "code",
   "execution_count": 4,
   "metadata": {},
   "outputs": [
    {
     "name": "stdout",
     "output_type": "stream",
     "text": [
      "선반의 좌표: x1: 100, y1: 264, x2: 1188, y2: 847\n",
      "선반의 가로 길이: 1088, 선반의 세로 길이: 583\n"
     ]
    }
   ],
   "source": [
    "# Global variables\n",
    "drawing = False # true if mouse is pressed\n",
    "ix, iy = -1, -1\n",
    "img = None\n",
    "temp_img = None\n",
    "shelf_object = list()\n",
    "\n",
    "# Mouse callback function\n",
    "def draw_rectangle(event, x, y, flags, param):\n",
    "    global ix, iy, drawing, img, temp_img\n",
    "\n",
    "    if event == cv2.EVENT_LBUTTONDOWN:\n",
    "        drawing = True\n",
    "        ix, iy = x, y\n",
    "        temp_img = img.copy()\n",
    "\n",
    "    elif event == cv2.EVENT_MOUSEMOVE:  \n",
    "        if drawing is True:\n",
    "            img = temp_img.copy()\n",
    "            cv2.rectangle(img, (ix, iy), (x, y), (0, 255, 0), 1)\n",
    "\n",
    "    elif event == cv2.EVENT_LBUTTONUP:\n",
    "        drawing = False\n",
    "        cv2.rectangle(img, (ix, iy), (x, y), (0, 255, 0), -1)\n",
    "        shelf_object.append(Shelf(ix, iy, x, y))\n",
    "        print(f\"선반의 좌표: {shelf_object[-1]}\")\n",
    "        print(f\"선반의 가로 길이: {shelf_object[-1].width}, 선반의 세로 길이: {shelf_object[-1].height}\")\n",
    "\n",
    "# Load an image\n",
    "img = results[0].orig_img.copy()\n",
    "cv2.namedWindow('image')\n",
    "cv2.setMouseCallback('image', draw_rectangle)\n",
    "\n",
    "while(1):\n",
    "    cv2.imshow('image', img)\n",
    "    if cv2.waitKey(1) & 0xFF == 27:  # exit if ESC is pressed\n",
    "        break\n",
    "\n",
    "cv2.destroyAllWindows()"
   ]
  },
  {
   "cell_type": "markdown",
   "metadata": {},
   "source": [
    "탐지된 객체를 관리하는 클래스"
   ]
  },
  {
   "cell_type": "code",
   "execution_count": 5,
   "metadata": {},
   "outputs": [],
   "source": [
    "class YoloObject:\n",
    "    def __init__(self, object, image, width, height):\n",
    "        self.object = object\n",
    "        self.image = image\n",
    "        self.width = width\n",
    "        self.height = height\n",
    "\n",
    "    def show(self):\n",
    "        self.object.show()"
   ]
  },
  {
   "cell_type": "markdown",
   "metadata": {},
   "source": [
    "객체를 하나씩 보여주고 가로 세로 길이를 출력하는 기능"
   ]
  },
  {
   "cell_type": "code",
   "execution_count": 6,
   "metadata": {},
   "outputs": [
    {
     "name": "stdout",
     "output_type": "stream",
     "text": [
      "물건 0 가로 길이: 112, 세로 길이: 322\n",
      "물건 1 가로 길이: 125, 세로 길이: 431\n",
      "물건 2 가로 길이: 110, 세로 길이: 173\n",
      "물건 3 가로 길이: 138, 세로 길이: 460\n",
      "물건 4 가로 길이: 54, 세로 길이: 199\n"
     ]
    }
   ],
   "source": [
    "image_path = '예제선반1.jpg'\n",
    "image = cv2.imread(image_path)\n",
    "yolo_objects = list()\n",
    "\n",
    "for index, r in enumerate(results[0]):  # 인덱스와 결과를 반복한다\n",
    "    box = r.boxes.xyxy[0]  # 경계 상자 좌표 가져오기\n",
    "    x1, y1, x2, y2 = map(int, box[:4])  # 경계 상자 좌표 (정수로 변환)\n",
    "    cropped_img = image[y1:y2, x1:x2]  # 경계 상자 좌표를 사용하여 이미지 자르기\n",
    "\n",
    "    height, width = cropped_img.shape[:2]\n",
    "    new_width = int(width)\n",
    "    new_height = int(height)\n",
    "    cropped_img = cv2.resize(cropped_img, (new_width, new_height))\n",
    "\n",
    "    yolo_objects.append(YoloObject(r, cropped_img, new_width, new_height))\n",
    "        \n",
    "    print(f'물건 {index} 가로 길이: {new_width}, 세로 길이: {new_height}')  # 객체의 가로와 세로 길이 출력\n",
    "    cv2.imshow(f'Detected Object {index}', cropped_img)\n",
    "    cv2.waitKey(0)\n",
    "\n",
    "cv2.destroyAllWindows() # 이미지창 닫기"
   ]
  },
  {
   "cell_type": "code",
   "execution_count": 7,
   "metadata": {},
   "outputs": [],
   "source": [
    "cv2.imshow(\"image\", yolo_objects[2].image)\n",
    "cv2.waitKey(0)\n",
    "\n",
    "cv2.destroyAllWindows() # 이미지창 닫기"
   ]
  },
  {
   "cell_type": "code",
   "execution_count": 8,
   "metadata": {},
   "outputs": [],
   "source": [
    "yolo_objects[2].show()"
   ]
  },
  {
   "cell_type": "markdown",
   "metadata": {},
   "source": [
    "shelf_object에는 선반의 좌표가 저장되어 있고, yolo_objects에는 물건의 좌표가 저장되어 있습니다. yolo_objects의 크기를 기준으로 선반의 크기에 맞게 들어가는지 확인을 하고 들어간다면 좌측 하단부터 시작하여 오른쪽으로 이동하면서 물건을 놓을 수 있는지 확인을 합니다. 물건을 놓을 수 있다면 물건의 좌표를 yolo_objects에 추가하고, 놓을 수 없다면 다음 줄로 넘어가서 물건을 놓을 수 있는지 확인을 합니다."
   ]
  },
  {
   "cell_type": "code",
   "execution_count": 17,
   "metadata": {},
   "outputs": [
    {
     "name": "stdout",
     "output_type": "stream",
     "text": [
      "선반의 가로 길이: 1088\n",
      "선반의 세로 길이: 583\n",
      "선반의 좌표: 100, 264, 1188, 847\n",
      "선반의 용량: 112/1088\n",
      "선반의 용량: 237/1088\n",
      "선반의 용량: 347/1088\n",
      "선반의 용량: 485/1088\n",
      "선반의 용량: 539/1088\n"
     ]
    }
   ],
   "source": [
    "image_path = '예제선반1.jpg'\n",
    "image = cv2.imread(image_path)\n",
    "\n",
    "image[shelf_object[0].y1:shelf_object[0].y2, shelf_object[0].x1:shelf_object[0].x2] = [0, 128, 0]\n",
    "\n",
    "print(f\"선반의 가로 길이: {shelf_object[0].width}\")  # 선반의 너비를 출력한다.\n",
    "print(f\"선반의 세로 길이: {shelf_object[0].height}\")  # 선반의 높이를 출력한다.\n",
    "print(f\"선반의 좌표: {shelf_object[0].x1}, {shelf_object[0].y1}, {shelf_object[0].x2}, {shelf_object[0].y2}\")\n",
    "\n",
    "index = 0  # 인덱스를 0으로 설정한다.\n",
    "\n",
    "for obj in yolo_objects:\n",
    "    if obj.width <= shelf_object[0].width - index:  # 물체의 너비가 남는 공간보다 작거나 같으면\n",
    "        좌측상단x = shelf_object[0].x1 + index\n",
    "        좌측상단y = shelf_object[0].y2 - obj.height\n",
    "        우측하단x = shelf_object[0].x1 + index + obj.width\n",
    "        우측하단y = shelf_object[0].y2\n",
    "        image[좌측상단y:우측하단y, 좌측상단x:우측하단x] = obj.image\n",
    "        index += obj.width  # 인덱스에 물체의 너비를 더한다.\n",
    "        print(f\"선반의 용량: {index}/{shelf_object[0].width}\")  # 선반의 용량을 출력한다.\n",
    "\n",
    "cv2.imshow(\"image\", image)\n",
    "cv2.waitKey(0)\n",
    "\n",
    "cv2.destroyAllWindows() # 이미지창 닫기"
   ]
  }
 ],
 "metadata": {
  "kernelspec": {
   "display_name": "Python 3",
   "language": "python",
   "name": "python3"
  },
  "language_info": {
   "codemirror_mode": {
    "name": "ipython",
    "version": 3
   },
   "file_extension": ".py",
   "mimetype": "text/x-python",
   "name": "python",
   "nbconvert_exporter": "python",
   "pygments_lexer": "ipython3",
   "version": "3.12.2"
  }
 },
 "nbformat": 4,
 "nbformat_minor": 2
}
