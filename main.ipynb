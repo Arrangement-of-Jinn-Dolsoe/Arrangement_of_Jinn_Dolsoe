{
 "cells": [
  {
   "cell_type": "markdown",
   "metadata": {},
   "source": [
    "```\n",
    "사진에 있는 선반과 물체들을 감지하는 기능\n",
    "ㄴ 선반을 사직으로 찍게 할건지 선반의 종류를 사용자가 선택하게 할건지\n",
    "감지된 물체중에 사격형이 아닌 물체를 사각화 시켜주는 기능\n",
    "\n",
    "사각화 된 물체를 종류에 맞게 분리해주는 기능\n",
    "\n",
    "분리된 물체를 선반에 맞춰 정리해주는기능\n",
    "\n",
    "정리된 모습의 물체화 선반을 단말기에 출력하는 기능\n",
    "```"
   ]
  },
  {
   "cell_type": "code",
   "execution_count": 33,
   "metadata": {},
   "outputs": [
    {
     "name": "stdout",
     "output_type": "stream",
     "text": [
      "Downloading https://github.com/ultralytics/assets/releases/download/v8.2.0/yolov8x-seg.pt to 'yolov8x-seg.pt'...\n"
     ]
    },
    {
     "name": "stderr",
     "output_type": "stream",
     "text": [
      "100%|██████████| 137M/137M [00:02<00:00, 59.2MB/s] \n"
     ]
    },
    {
     "name": "stdout",
     "output_type": "stream",
     "text": [
      "\n",
      "image 1/1 l:\\2024-1\\SW\\0429   \\Arrangement_of_Jinn_Dolsoe\\20240502_142118.jpg: 384x640 3 persons, 1 backpack, 2 bottles, 2 chairs, 2 laptops, 1 mouse, 1 remote, 1 keyboard, 1 cell phone, 457.5ms\n",
      "Speed: 2.0ms preprocess, 457.5ms inference, 6.0ms postprocess per image at shape (1, 3, 384, 640)\n"
     ]
    }
   ],
   "source": [
    "from ultralytics import YOLO\n",
    "from ultralytics.engine.results import Results\n",
    "\n",
    "# Load a pretrained YOLOv8n model\n",
    "model = YOLO('yolov8x-seg.pt')\n",
    "\n",
    "# Run inference on an image\n",
    "results: Results = model('20240502_142118.jpg')  # results list"
   ]
  },
  {
   "cell_type": "code",
   "execution_count": 34,
   "metadata": {},
   "outputs": [],
   "source": [
    "class MyBoxes:\n",
    "    def __init__(self, object, xyxy, conf):\n",
    "        self.object = object\n",
    "        self.xyxy = xyxy\n",
    "        self.conf = conf\n",
    "\n",
    "    def show(self):\n",
    "        print(f\"xyxy: {self.xyxy}\")\n",
    "        print(f\"conf: {self.conf}\")"
   ]
  },
  {
   "cell_type": "code",
   "execution_count": 36,
   "metadata": {},
   "outputs": [
    {
     "name": "stdout",
     "output_type": "stream",
     "text": [
      "[array([[     1006.2,         401],\n",
      "       [       1000,      407.25],\n",
      "       [     993.75,      407.25],\n",
      "       [      987.5,       413.5],\n",
      "       [     981.25,       413.5],\n",
      "       [        975,      419.75],\n",
      "       [     956.25,      419.75],\n",
      "       [        950,         426],\n",
      "       [     893.75,         426],\n",
      "       [      887.5,      432.25],\n",
      "       [     881.25,      432.25],\n",
      "       [        875,       438.5],\n",
      "       [     868.75,       438.5],\n",
      "       [      862.5,      444.75],\n",
      "       [     856.25,      444.75],\n",
      "       [        850,         451],\n",
      "       [     831.25,         451],\n",
      "       [        825,      457.25],\n",
      "       [        825,       488.5],\n",
      "       [     856.25,      519.75],\n",
      "       [        925,      519.75],\n",
      "       [     931.25,       513.5],\n",
      "       [     943.75,       513.5],\n",
      "       [     956.25,         501],\n",
      "       [     968.75,         501],\n",
      "       [        975,      494.75],\n",
      "       [     1056.2,      494.75],\n",
      "       [     1062.5,       488.5],\n",
      "       [       1075,       488.5],\n",
      "       [     1087.5,         476],\n",
      "       [       1100,         476],\n",
      "       [     1106.2,      469.75],\n",
      "       [       1175,      469.75],\n",
      "       [     1181.2,       463.5],\n",
      "       [     1193.8,       463.5],\n",
      "       [     1206.2,         451],\n",
      "       [     1218.8,         451],\n",
      "       [       1225,      444.75],\n",
      "       [       1250,      444.75],\n",
      "       [     1256.2,       438.5],\n",
      "       [     1262.5,       438.5],\n",
      "       [     1262.5,         426],\n",
      "       [     1256.2,      419.75],\n",
      "       [     1256.2,       413.5],\n",
      "       [       1250,      407.25],\n",
      "       [     1243.8,      407.25],\n",
      "       [     1237.5,         401]], dtype=float32)]\n"
     ]
    }
   ],
   "source": [
    "boxes = list()\n",
    "\n",
    "# View results\n",
    "for r in results[0]:\n",
    "    boxes.append(MyBoxes(r, r.boxes.xyxy, r.boxes.conf))\n",
    "    # print(r.boxes)  # print the Boxes object containing the detection bounding boxes\n",
    "    # print(r.boxes.xyxy)  # print the xyxy tensor of bounding boxes\n",
    "    # print(r.boxes.conf)  # print the confidence tensor of bounding boxes\n",
    "\n",
    "results[0].show()\n",
    "# boxes[7].show()\n",
    "boxes[7].object.show()\n",
    "print(boxes[7].object.masks.xy)\n",
    "\n",
    "arr = boxes[7].object.masks.xy"
   ]
  },
  {
   "cell_type": "markdown",
   "metadata": {},
   "source": [
    "imread로 원래 있던 그림을 기본으로 하고 float32형 array배열의 arr안에 있는 데이터를 점으로 cv2로 찍고싶어"
   ]
  },
  {
   "cell_type": "code",
   "execution_count": 38,
   "metadata": {},
   "outputs": [
    {
     "name": "stdout",
     "output_type": "stream",
     "text": [
      "[     1006.2         401]\n",
      "[       1000      407.25]\n",
      "[     993.75      407.25]\n",
      "[      987.5       413.5]\n",
      "[     981.25       413.5]\n",
      "[        975      419.75]\n",
      "[     956.25      419.75]\n",
      "[        950         426]\n",
      "[     893.75         426]\n",
      "[      887.5      432.25]\n",
      "[     881.25      432.25]\n",
      "[        875       438.5]\n",
      "[     868.75       438.5]\n",
      "[      862.5      444.75]\n",
      "[     856.25      444.75]\n",
      "[        850         451]\n",
      "[     831.25         451]\n",
      "[        825      457.25]\n",
      "[        825       488.5]\n",
      "[     856.25      519.75]\n",
      "[        925      519.75]\n",
      "[     931.25       513.5]\n",
      "[     943.75       513.5]\n",
      "[     956.25         501]\n",
      "[     968.75         501]\n",
      "[        975      494.75]\n",
      "[     1056.2      494.75]\n",
      "[     1062.5       488.5]\n",
      "[       1075       488.5]\n",
      "[     1087.5         476]\n",
      "[       1100         476]\n",
      "[     1106.2      469.75]\n",
      "[       1175      469.75]\n",
      "[     1181.2       463.5]\n",
      "[     1193.8       463.5]\n",
      "[     1206.2         451]\n",
      "[     1218.8         451]\n",
      "[       1225      444.75]\n",
      "[       1250      444.75]\n",
      "[     1256.2       438.5]\n",
      "[     1262.5       438.5]\n",
      "[     1262.5         426]\n",
      "[     1256.2      419.75]\n",
      "[     1256.2       413.5]\n",
      "[       1250      407.25]\n",
      "[     1243.8      407.25]\n",
      "[     1237.5         401]\n"
     ]
    }
   ],
   "source": [
    "import cv2\n",
    "\n",
    "# Read the original image using imread\n",
    "image = cv2.imread(\"20240502_142118.jpg\")\n",
    "\n",
    "# Iterate over the data points in arr and draw them as points on the image\n",
    "for point in arr[0]:\n",
    "    print(point)\n",
    "    x, y = point\n",
    "    cv2.circle(image, (int(x), int(y)), radius=2, color=(0, 0, 255), thickness=-1)\n",
    "\n",
    "# Display the image with the plotted points\n",
    "cv2.imshow(\"Image with Points\", image)\n",
    "cv2.waitKey(0)\n",
    "cv2.destroyAllWindows()"
   ]
  }
 ],
 "metadata": {
  "kernelspec": {
   "display_name": "Python 3",
   "language": "python",
   "name": "python3"
  },
  "language_info": {
   "codemirror_mode": {
    "name": "ipython",
    "version": 3
   },
   "file_extension": ".py",
   "mimetype": "text/x-python",
   "name": "python",
   "nbconvert_exporter": "python",
   "pygments_lexer": "ipython3",
   "version": "3.12.2"
  }
 },
 "nbformat": 4,
 "nbformat_minor": 2
}
