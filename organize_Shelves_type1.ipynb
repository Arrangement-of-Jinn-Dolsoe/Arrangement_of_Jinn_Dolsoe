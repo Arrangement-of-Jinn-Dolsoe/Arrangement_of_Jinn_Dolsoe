{
 "cells": [
  {
   "cell_type": "code",
   "execution_count": 3,
   "metadata": {},
   "outputs": [
    {
     "name": "stdout",
     "output_type": "stream",
     "text": [
      "정리 후 선반 D: [(100, 100, 200, 200), (100, 100, 200, 200), (250, 100, 310, 230)] 260/270.0\n",
      "정리 후 선반 E: [(250, 100, 310, 230), (320, 100, 370, 200), (320, 100, 370, 200)] 160/180.0\n"
     ]
    }
   ],
   "source": [
    "# 물체 리스트와 개수 리스트 정의\n",
    "objects = [\n",
    "    (100, 100, 200, 200),  # 물체 A (크기 100)\n",
    "    (250, 100, 310, 230),  # 물체 B (크기 60)\n",
    "    (320, 100, 370, 200)   # 물체 C (크기 50)\n",
    "]\n",
    "object_counts = [2, 2, 2]  # 각각의 물체 개수\n",
    "\n",
    "# 선반 정보 정의\n",
    "shelves = [\n",
    "    (100, 100, 400, 300),  # 선반 D (크기 300)\n",
    "    (100, 100, 300, 300)   # 선반 E (크기 200)\n",
    "]\n",
    "\n",
    "# 선반의 크기 계산\n",
    "shelf_widths = [shelf[2] - shelf[0] for shelf in shelves]\n",
    "shelf_widths_with_margin = [width * 0.9 for width in shelf_widths]  # 여유 공간 10% 고려\n",
    "\n",
    "# 물체의 x 크기 계산 및 정렬\n",
    "objects_with_width = []\n",
    "for i, (x1, y1, x2, y2) in enumerate(objects):\n",
    "    width = x2 - x1\n",
    "    objects_with_width.append((width, object_counts[i], i))\n",
    "\n",
    "# x 크기 기준으로 물체 정렬 (내림차순)\n",
    "objects_sorted = sorted(objects_with_width, key=lambda x: x[0], reverse=True)\n",
    "\n",
    "# 물체를 배치하여 선반에 채우기\n",
    "shelf_filled_objects = [[] for _ in shelves]\n",
    "current_widths = [0 for _ in shelves]\n",
    "\n",
    "for width, count, index in objects_sorted:\n",
    "    for _ in range(count):\n",
    "        placed = False\n",
    "        for i in range(len(shelves)):\n",
    "            if current_widths[i] + width <= shelf_widths_with_margin[i]:\n",
    "                shelf_filled_objects[i].append(objects[index])\n",
    "                current_widths[i] += width\n",
    "                placed = True\n",
    "                break\n",
    "        if not placed:\n",
    "            print(f\"물체 {objects[index]}는 모든 선반에 배치할 공간이 없습니다.\")\n",
    "            break\n",
    "\n",
    "# 결과 출력\n",
    "for i, shelf_filled in enumerate(shelf_filled_objects):\n",
    "    print(f\"정리 후 선반 {chr(68+i)}:\", shelf_filled, f\"{current_widths[i]}/{shelf_widths_with_margin[i]}\")"
   ]
  }
 ],
 "metadata": {
  "kernelspec": {
   "display_name": "Python 3",
   "language": "python",
   "name": "python3"
  },
  "language_info": {
   "codemirror_mode": {
    "name": "ipython",
    "version": 3
   },
   "file_extension": ".py",
   "mimetype": "text/x-python",
   "name": "python",
   "nbconvert_exporter": "python",
   "pygments_lexer": "ipython3",
   "version": "3.12.3"
  }
 },
 "nbformat": 4,
 "nbformat_minor": 2
}
