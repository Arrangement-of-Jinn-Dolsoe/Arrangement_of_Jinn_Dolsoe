{
 "cells": [
  {
   "cell_type": "code",
   "execution_count": 2,
   "id": "4336f79d",
   "metadata": {},
   "outputs": [
    {
     "name": "stdout",
     "output_type": "stream",
     "text": [
      "\n",
      "image 1/1 c:\\Project\\Python\\Jupyter\\SSS_Ice\\20240518_165819.jpg: 640x288 1 traffic light, 1 tv, 673.7ms\n",
      "Speed: 2.0ms preprocess, 673.7ms inference, 3.0ms postprocess per image at shape (1, 3, 640, 288)\n"
     ]
    }
   ],
   "source": [
    "from ultralytics import YOLO\n",
    "import cv2\n",
    "import numpy as np\n",
    "\n",
    "# Load a model\n",
    "model = YOLO('yolov9e-seg.pt')  # load an official model\n",
    "\n",
    "# Predict with the model\n",
    "results = model('20240518_165819.jpg')  # predict on an image\n",
    "\n",
    "image_path = '20240518_165819.jpg'\n",
    "image = cv2.imread(image_path)\n",
    "\n",
    "max_width = 500 # 최대 이미지 설정\n",
    "max_height = 500\n",
    "\n",
    "for r in results:\n",
    "    for idx, box in enumerate(r.boxes.xyxy):\n",
    "        x1, y1, x2, y2 = map(int, box[:4])  # 경계 상자 좌표 (정수로 변환)\n",
    "        cropped_img = image[y1:y2, x1:x2]  # 경계 상자 좌표를 사용하여 이미지 자르기\n",
    "\n",
    "        height, width = cropped_img.shape[:2]\n",
    "\n",
    "        if width > max_width or height > max_height: # 이미지가 너무 크게 나와서 조절하는용도\n",
    "            scaling_factor = min(max_width / width, max_height / height)\n",
    "            new_width = int(width * scaling_factor)\n",
    "            new_height = int(height * scaling_factor)\n",
    "            cropped_img = cv2.resize(cropped_img, (new_width, new_height))\n",
    "\n",
    "        cv2.imshow(f'Detected Object {idx+1}', cropped_img)\n",
    "        cv2.waitKey(0)\n",
    "\n",
    "cv2.destroyAllWindows() # 이미지창 닫기\n",
    "\n",
    "# img = results[0][2] # 마스킹된 객체를 하나 출력\n",
    "# img.show()"
   ]
  }
 ],
 "metadata": {
  "kernelspec": {
   "display_name": "Python 3",
   "language": "python",
   "name": "python3"
  },
  "language_info": {
   "codemirror_mode": {
    "name": "ipython",
    "version": 3
   },
   "file_extension": ".py",
   "mimetype": "text/x-python",
   "name": "python",
   "nbconvert_exporter": "python",
   "pygments_lexer": "ipython3",
   "version": "3.12.3"
  }
 },
 "nbformat": 4,
 "nbformat_minor": 5
}
